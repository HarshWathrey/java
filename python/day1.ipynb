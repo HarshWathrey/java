# a= "harsh"
# print (a [3])

