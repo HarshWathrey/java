{
 "cells": [
  {
   "cell_type": "markdown",
   "id": "0ebc5b8b",
   "metadata": {},
   "source": [
    "List :- Ordered Collection of elements separated by coma enclosed in sq bracket. it is heterogenous in nature, it supports duplicates. it supporsts indexing, slicing, it is mutable "
   ]
  },
  {
   "cell_type": "code",
   "execution_count": 13,
   "id": "d0d0922b",
   "metadata": {},
   "outputs": [
    {
     "name": "stdout",
     "output_type": "stream",
     "text": [
      "[3, 4, 1]\n",
      "[1, 1, 2, 3, 4]\n"
     ]
    }
   ],
   "source": [
    "a = [1,2,3,4,1]\n",
    "print(a[2::])\n",
    "a.sort()\n",
    "print(a)"
   ]
  },
  {
   "cell_type": "code",
   "execution_count": 5,
   "id": "008e0f40",
   "metadata": {},
   "outputs": [
    {
     "name": "stdout",
     "output_type": "stream",
     "text": [
      "(32, 31, 30, 32)\n",
      "(31, 32)\n"
     ]
    }
   ],
   "source": [
    "t = (32, 31, 30, 32)\n",
    "print(t)\n",
    "print(t[1::-1])\n"
   ]
  },
  {
   "cell_type": "code",
   "execution_count": null,
   "id": "61dc61eb",
   "metadata": {},
   "outputs": [],
   "source": []
  }
 ],
 "metadata": {
  "kernelspec": {
   "display_name": "base",
   "language": "python",
   "name": "python3"
  },
  "language_info": {
   "codemirror_mode": {
    "name": "ipython",
    "version": 3
   },
   "file_extension": ".py",
   "mimetype": "text/x-python",
   "name": "python",
   "nbconvert_exporter": "python",
   "pygments_lexer": "ipython3",
   "version": "3.13.5"
  }
 },
 "nbformat": 4,
 "nbformat_minor": 5
}
